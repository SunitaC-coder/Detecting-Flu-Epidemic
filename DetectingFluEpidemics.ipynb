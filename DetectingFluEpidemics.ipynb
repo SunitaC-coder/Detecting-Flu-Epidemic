{
 "cells": [
  {
   "cell_type": "markdown",
   "metadata": {},
   "source": [
    "# Detecting Flu Epidemics via Search Engine Query Data \n",
    "Flu epidemics constitute a major public health concern causing respiratory illnesses, hospitalizations, and deaths. According to the National Vital Statistics Reports published in October 2012, influenza ranked as the eighth leading cause of death in 2011 in the United States. Each year, 250,000 to 500,000 deaths are attributed to influenza related diseases throughout the world.\n",
    "\n",
    "The U.S. Centers for Disease Control and Prevention (CDC) and the European Influenza Surveillance Scheme (EISS) detect influenza activity through virologic and clinical data, including Influenza-like Illness (ILI) physician visits. Reporting national and regional data, however, are published with a 1-2 week lag."
   ]
  },
  {
   "cell_type": "markdown",
   "metadata": {},
   "source": [
    "The csv file FluTrain (CSV) aggregates this data from January 1, 2004 until December 31, 2011 as follows:\n",
    "\n",
    "\"Week\" - The range of dates represented by this observation, in year/month/day format.\n",
    "\n",
    "\"ILI\" - This column lists the percentage of ILI-related physician visits for the corresponding week.\n",
    "\n",
    "\"Queries\" - This column lists the fraction of queries that are ILI-related for the corresponding week, adjusted to be between 0 and 1 (higher values correspond to more ILI-related search queries)."
   ]
  },
  {
   "cell_type": "code",
   "execution_count": 277,
   "metadata": {},
   "outputs": [],
   "source": [
    "import numpy as np\n",
    "import matplotlib.pyplot as plt\n",
    "from matplotlib import style\n",
    "import pandas as pd\n",
    "from sklearn.linear_model import LinearRegression\n",
    "import statsmodels.api as sm\n",
    "from sklearn.preprocessing import OrdinalEncoder\n",
    "from sklearn import metrics\n",
    "from scipy import stats\n",
    "import seaborn as sns\n",
    "import math\n",
    "%matplotlib inline"
   ]
  },
  {
   "cell_type": "markdown",
   "metadata": {},
   "source": [
    "Before applying analytics tools on the training set, we first need to understand the data at hand. We load \"FluTrain.csv\" into a data frame called FluTrain. Looking at the time period 2004-2011, we try to find which week corresponds to the highest percentage of ILI-related physician visits. We select the day of the month corresponding to the start of this week."
   ]
  },
  {
   "cell_type": "code",
   "execution_count": 278,
   "metadata": {},
   "outputs": [],
   "source": [
    "Flu_Train= pd.read_csv('FluTrain.csv')"
   ]
  },
  {
   "cell_type": "code",
   "execution_count": 279,
   "metadata": {},
   "outputs": [
    {
     "data": {
      "text/html": [
       "<div>\n",
       "<style scoped>\n",
       "    .dataframe tbody tr th:only-of-type {\n",
       "        vertical-align: middle;\n",
       "    }\n",
       "\n",
       "    .dataframe tbody tr th {\n",
       "        vertical-align: top;\n",
       "    }\n",
       "\n",
       "    .dataframe thead th {\n",
       "        text-align: right;\n",
       "    }\n",
       "</style>\n",
       "<table border=\"1\" class=\"dataframe\">\n",
       "  <thead>\n",
       "    <tr style=\"text-align: right;\">\n",
       "      <th></th>\n",
       "      <th>Week</th>\n",
       "      <th>ILI</th>\n",
       "      <th>Queries</th>\n",
       "    </tr>\n",
       "  </thead>\n",
       "  <tbody>\n",
       "    <tr>\n",
       "      <th>0</th>\n",
       "      <td>2004-01-04 - 2004-01-10</td>\n",
       "      <td>2.418331</td>\n",
       "      <td>0.237716</td>\n",
       "    </tr>\n",
       "    <tr>\n",
       "      <th>1</th>\n",
       "      <td>2004-01-11 - 2004-01-17</td>\n",
       "      <td>1.809056</td>\n",
       "      <td>0.220452</td>\n",
       "    </tr>\n",
       "    <tr>\n",
       "      <th>2</th>\n",
       "      <td>2004-01-18 - 2004-01-24</td>\n",
       "      <td>1.712024</td>\n",
       "      <td>0.225764</td>\n",
       "    </tr>\n",
       "    <tr>\n",
       "      <th>3</th>\n",
       "      <td>2004-01-25 - 2004-01-31</td>\n",
       "      <td>1.542495</td>\n",
       "      <td>0.237716</td>\n",
       "    </tr>\n",
       "    <tr>\n",
       "      <th>4</th>\n",
       "      <td>2004-02-01 - 2004-02-07</td>\n",
       "      <td>1.437868</td>\n",
       "      <td>0.224436</td>\n",
       "    </tr>\n",
       "  </tbody>\n",
       "</table>\n",
       "</div>"
      ],
      "text/plain": [
       "                      Week       ILI   Queries\n",
       "0  2004-01-04 - 2004-01-10  2.418331  0.237716\n",
       "1  2004-01-11 - 2004-01-17  1.809056  0.220452\n",
       "2  2004-01-18 - 2004-01-24  1.712024  0.225764\n",
       "3  2004-01-25 - 2004-01-31  1.542495  0.237716\n",
       "4  2004-02-01 - 2004-02-07  1.437868  0.224436"
      ]
     },
     "execution_count": 279,
     "metadata": {},
     "output_type": "execute_result"
    }
   ],
   "source": [
    "Flu_Train.head()"
   ]
  },
  {
   "cell_type": "code",
   "execution_count": 280,
   "metadata": {},
   "outputs": [
    {
     "name": "stdout",
     "output_type": "stream",
     "text": [
      "<class 'pandas.core.frame.DataFrame'>\n",
      "RangeIndex: 417 entries, 0 to 416\n",
      "Data columns (total 3 columns):\n",
      "Week       417 non-null object\n",
      "ILI        417 non-null float64\n",
      "Queries    417 non-null float64\n",
      "dtypes: float64(2), object(1)\n",
      "memory usage: 9.9+ KB\n"
     ]
    }
   ],
   "source": [
    "Flu_Train.info()"
   ]
  },
  {
   "cell_type": "code",
   "execution_count": 281,
   "metadata": {},
   "outputs": [
    {
     "data": {
      "text/html": [
       "<div>\n",
       "<style scoped>\n",
       "    .dataframe tbody tr th:only-of-type {\n",
       "        vertical-align: middle;\n",
       "    }\n",
       "\n",
       "    .dataframe tbody tr th {\n",
       "        vertical-align: top;\n",
       "    }\n",
       "\n",
       "    .dataframe thead th {\n",
       "        text-align: right;\n",
       "    }\n",
       "</style>\n",
       "<table border=\"1\" class=\"dataframe\">\n",
       "  <thead>\n",
       "    <tr style=\"text-align: right;\">\n",
       "      <th></th>\n",
       "      <th>count</th>\n",
       "      <th>mean</th>\n",
       "      <th>std</th>\n",
       "      <th>min</th>\n",
       "      <th>25%</th>\n",
       "      <th>50%</th>\n",
       "      <th>75%</th>\n",
       "      <th>max</th>\n",
       "    </tr>\n",
       "  </thead>\n",
       "  <tbody>\n",
       "    <tr>\n",
       "      <th>ILI</th>\n",
       "      <td>417.0</td>\n",
       "      <td>1.676861</td>\n",
       "      <td>1.126163</td>\n",
       "      <td>0.534093</td>\n",
       "      <td>0.902459</td>\n",
       "      <td>1.252563</td>\n",
       "      <td>2.058690</td>\n",
       "      <td>7.618892</td>\n",
       "    </tr>\n",
       "    <tr>\n",
       "      <th>Queries</th>\n",
       "      <td>417.0</td>\n",
       "      <td>0.286028</td>\n",
       "      <td>0.157697</td>\n",
       "      <td>0.041169</td>\n",
       "      <td>0.156707</td>\n",
       "      <td>0.281541</td>\n",
       "      <td>0.378486</td>\n",
       "      <td>1.000000</td>\n",
       "    </tr>\n",
       "  </tbody>\n",
       "</table>\n",
       "</div>"
      ],
      "text/plain": [
       "         count      mean       std       min       25%       50%       75%  \\\n",
       "ILI      417.0  1.676861  1.126163  0.534093  0.902459  1.252563  2.058690   \n",
       "Queries  417.0  0.286028  0.157697  0.041169  0.156707  0.281541  0.378486   \n",
       "\n",
       "              max  \n",
       "ILI      7.618892  \n",
       "Queries  1.000000  "
      ]
     },
     "execution_count": 281,
     "metadata": {},
     "output_type": "execute_result"
    }
   ],
   "source": [
    "Flu_Train.describe().transpose()"
   ]
  },
  {
   "cell_type": "code",
   "execution_count": 282,
   "metadata": {},
   "outputs": [
    {
     "data": {
      "text/plain": [
       "1.0"
      ]
     },
     "execution_count": 282,
     "metadata": {},
     "output_type": "execute_result"
    }
   ],
   "source": [
    "Flu_Train[\"Queries\"].max()"
   ]
  },
  {
   "cell_type": "code",
   "execution_count": 283,
   "metadata": {},
   "outputs": [],
   "source": [
    "MaxQuery = Flu_Train[Flu_Train[\"Queries\"] == 1]"
   ]
  },
  {
   "cell_type": "code",
   "execution_count": 284,
   "metadata": {},
   "outputs": [
    {
     "data": {
      "text/html": [
       "<div>\n",
       "<style scoped>\n",
       "    .dataframe tbody tr th:only-of-type {\n",
       "        vertical-align: middle;\n",
       "    }\n",
       "\n",
       "    .dataframe tbody tr th {\n",
       "        vertical-align: top;\n",
       "    }\n",
       "\n",
       "    .dataframe thead th {\n",
       "        text-align: right;\n",
       "    }\n",
       "</style>\n",
       "<table border=\"1\" class=\"dataframe\">\n",
       "  <thead>\n",
       "    <tr style=\"text-align: right;\">\n",
       "      <th></th>\n",
       "      <th>Week</th>\n",
       "      <th>ILI</th>\n",
       "      <th>Queries</th>\n",
       "    </tr>\n",
       "  </thead>\n",
       "  <tbody>\n",
       "    <tr>\n",
       "      <th>302</th>\n",
       "      <td>2009-10-18 - 2009-10-24</td>\n",
       "      <td>7.618892</td>\n",
       "      <td>1.0</td>\n",
       "    </tr>\n",
       "  </tbody>\n",
       "</table>\n",
       "</div>"
      ],
      "text/plain": [
       "                        Week       ILI  Queries\n",
       "302  2009-10-18 - 2009-10-24  7.618892      1.0"
      ]
     },
     "execution_count": 284,
     "metadata": {},
     "output_type": "execute_result"
    }
   ],
   "source": [
    "MaxQuery"
   ]
  },
  {
   "cell_type": "markdown",
   "metadata": {},
   "source": [
    "# Understanding the Data\n",
    "Let us now understand the data at an aggregate level. For this we plot the histogram of the dependent variable, ILI. Most of the ILI values are small, with a relatively small number of much larger values skew right."
   ]
  },
  {
   "cell_type": "code",
   "execution_count": 285,
   "metadata": {},
   "outputs": [
    {
     "data": {
      "text/plain": [
       "<matplotlib.axes._subplots.AxesSubplot at 0x1b8fe854ef0>"
      ]
     },
     "execution_count": 285,
     "metadata": {},
     "output_type": "execute_result"
    },
    {
     "data": {
      "image/png": "[encoded data removed]",
      "text/plain": [
       "<Figure size 432x288 with 1 Axes>"
      ]
     },
     "metadata": {
      "needs_background": "light"
     },
     "output_type": "display_data"
    }
   ],
   "source": [
    "Flu_Train[\"ILI\"].hist()"
   ]
  },
  {
   "cell_type": "markdown",
   "metadata": {},
   "source": [
    "When handling a skewed dependent variable, it is often useful to predict the logarithm of the dependent variable instead of the dependent variable itself -- this prevents the small number of unusually large or small observations from having an undue influence on the sum of squared errors of predictive models. In this exercise, we will predict the natural log of the ILI variable, which can be computed using the log() function."
   ]
  },
  {
   "cell_type": "code",
   "execution_count": 286,
   "metadata": {},
   "outputs": [],
   "source": [
    "LogILI = np.log(Flu_Train[\"ILI\"])"
   ]
  },
  {
   "cell_type": "code",
   "execution_count": 287,
   "metadata": {},
   "outputs": [
    {
     "data": {
      "text/plain": [
       "0    0.883078\n",
       "1    0.592805\n",
       "2    0.537676\n",
       "3    0.433401\n",
       "4    0.363162\n",
       "Name: ILI, dtype: float64"
      ]
     },
     "execution_count": 287,
     "metadata": {},
     "output_type": "execute_result"
    }
   ],
   "source": [
    "LogILI.head()"
   ]
  },
  {
   "cell_type": "markdown",
   "metadata": {},
   "source": [
    "We plot the natural logarithm of ILI versus Queries.We detect a positive, linear relationship between log(ILI) and Queries."
   ]
  },
  {
   "cell_type": "code",
   "execution_count": 288,
   "metadata": {},
   "outputs": [
    {
     "data": {
      "text/plain": [
       "<matplotlib.collections.PathCollection at 0x1b8fe953160>"
      ]
     },
     "execution_count": 288,
     "metadata": {},
     "output_type": "execute_result"
    },
    {
     "data": {
      "image/png": "[encoded data removed]",
      "text/plain": [
       "<Figure size 432x288 with 1 Axes>"
      ]
     },
     "metadata": {
      "needs_background": "light"
     },
     "output_type": "display_data"
    }
   ],
   "source": [
    "plt.scatter(LogILI, Flu_Train[\"Queries\"])"
   ]
  },
  {
   "cell_type": "markdown",
   "metadata": {},
   "source": [
    "In order to prepare the data to build a model, we replace the dependent variable with its log values and we interchange the dependent and independent variable columns."
   ]
  },
  {
   "cell_type": "code",
   "execution_count": 289,
   "metadata": {},
   "outputs": [],
   "source": [
    "Flu_Train[\"ILI\"] = LogILI"
   ]
  },
  {
   "cell_type": "code",
   "execution_count": 290,
   "metadata": {},
   "outputs": [
    {
     "data": {
      "text/html": [
       "<div>\n",
       "<style scoped>\n",
       "    .dataframe tbody tr th:only-of-type {\n",
       "        vertical-align: middle;\n",
       "    }\n",
       "\n",
       "    .dataframe tbody tr th {\n",
       "        vertical-align: top;\n",
       "    }\n",
       "\n",
       "    .dataframe thead th {\n",
       "        text-align: right;\n",
       "    }\n",
       "</style>\n",
       "<table border=\"1\" class=\"dataframe\">\n",
       "  <thead>\n",
       "    <tr style=\"text-align: right;\">\n",
       "      <th></th>\n",
       "      <th>Week</th>\n",
       "      <th>ILI</th>\n",
       "      <th>Queries</th>\n",
       "    </tr>\n",
       "  </thead>\n",
       "  <tbody>\n",
       "    <tr>\n",
       "      <th>0</th>\n",
       "      <td>2004-01-04 - 2004-01-10</td>\n",
       "      <td>0.883078</td>\n",
       "      <td>0.237716</td>\n",
       "    </tr>\n",
       "    <tr>\n",
       "      <th>1</th>\n",
       "      <td>2004-01-11 - 2004-01-17</td>\n",
       "      <td>0.592805</td>\n",
       "      <td>0.220452</td>\n",
       "    </tr>\n",
       "    <tr>\n",
       "      <th>2</th>\n",
       "      <td>2004-01-18 - 2004-01-24</td>\n",
       "      <td>0.537676</td>\n",
       "      <td>0.225764</td>\n",
       "    </tr>\n",
       "    <tr>\n",
       "      <th>3</th>\n",
       "      <td>2004-01-25 - 2004-01-31</td>\n",
       "      <td>0.433401</td>\n",
       "      <td>0.237716</td>\n",
       "    </tr>\n",
       "    <tr>\n",
       "      <th>4</th>\n",
       "      <td>2004-02-01 - 2004-02-07</td>\n",
       "      <td>0.363162</td>\n",
       "      <td>0.224436</td>\n",
       "    </tr>\n",
       "  </tbody>\n",
       "</table>\n",
       "</div>"
      ],
      "text/plain": [
       "                      Week       ILI   Queries\n",
       "0  2004-01-04 - 2004-01-10  0.883078  0.237716\n",
       "1  2004-01-11 - 2004-01-17  0.592805  0.220452\n",
       "2  2004-01-18 - 2004-01-24  0.537676  0.225764\n",
       "3  2004-01-25 - 2004-01-31  0.433401  0.237716\n",
       "4  2004-02-01 - 2004-02-07  0.363162  0.224436"
      ]
     },
     "execution_count": 290,
     "metadata": {},
     "output_type": "execute_result"
    }
   ],
   "source": [
    "Flu_Train.head()"
   ]
  },
  {
   "cell_type": "code",
   "execution_count": 291,
   "metadata": {},
   "outputs": [
    {
     "data": {
      "text/html": [
       "<div>\n",
       "<style scoped>\n",
       "    .dataframe tbody tr th:only-of-type {\n",
       "        vertical-align: middle;\n",
       "    }\n",
       "\n",
       "    .dataframe tbody tr th {\n",
       "        vertical-align: top;\n",
       "    }\n",
       "\n",
       "    .dataframe thead th {\n",
       "        text-align: right;\n",
       "    }\n",
       "</style>\n",
       "<table border=\"1\" class=\"dataframe\">\n",
       "  <thead>\n",
       "    <tr style=\"text-align: right;\">\n",
       "      <th></th>\n",
       "      <th>Week</th>\n",
       "      <th>ILI</th>\n",
       "      <th>Queries</th>\n",
       "    </tr>\n",
       "  </thead>\n",
       "  <tbody>\n",
       "    <tr>\n",
       "      <th>412</th>\n",
       "      <td>2011-11-27 - 2011-12-03</td>\n",
       "      <td>0.382349</td>\n",
       "      <td>0.478088</td>\n",
       "    </tr>\n",
       "    <tr>\n",
       "      <th>413</th>\n",
       "      <td>2011-12-04 - 2011-12-10</td>\n",
       "      <td>0.417464</td>\n",
       "      <td>0.464807</td>\n",
       "    </tr>\n",
       "    <tr>\n",
       "      <th>414</th>\n",
       "      <td>2011-12-11 - 2011-12-17</td>\n",
       "      <td>0.509197</td>\n",
       "      <td>0.479416</td>\n",
       "    </tr>\n",
       "    <tr>\n",
       "      <th>415</th>\n",
       "      <td>2011-12-18 - 2011-12-24</td>\n",
       "      <td>0.616663</td>\n",
       "      <td>0.537849</td>\n",
       "    </tr>\n",
       "    <tr>\n",
       "      <th>416</th>\n",
       "      <td>2011-12-25 - 2011-12-31</td>\n",
       "      <td>0.753362</td>\n",
       "      <td>0.618858</td>\n",
       "    </tr>\n",
       "  </tbody>\n",
       "</table>\n",
       "</div>"
      ],
      "text/plain": [
       "                        Week       ILI   Queries\n",
       "412  2011-11-27 - 2011-12-03  0.382349  0.478088\n",
       "413  2011-12-04 - 2011-12-10  0.417464  0.464807\n",
       "414  2011-12-11 - 2011-12-17  0.509197  0.479416\n",
       "415  2011-12-18 - 2011-12-24  0.616663  0.537849\n",
       "416  2011-12-25 - 2011-12-31  0.753362  0.618858"
      ]
     },
     "execution_count": 291,
     "metadata": {},
     "output_type": "execute_result"
    }
   ],
   "source": [
    "Flu_Train.tail()"
   ]
  },
  {
   "cell_type": "code",
   "execution_count": 292,
   "metadata": {},
   "outputs": [],
   "source": [
    "cols = list(Flu_Train.columns)"
   ]
  },
  {
   "cell_type": "code",
   "execution_count": 293,
   "metadata": {},
   "outputs": [],
   "source": [
    "a, b, c = cols.index('Week'), cols.index('ILI'), cols.index('Queries')\n",
    "cols[a], cols[b], cols[c] = cols[a], cols[c], cols[b]\n",
    "Flu_Train_log = Flu_Train[cols]"
   ]
  },
  {
   "cell_type": "code",
   "execution_count": 294,
   "metadata": {},
   "outputs": [
    {
     "data": {
      "text/html": [
       "<div>\n",
       "<style scoped>\n",
       "    .dataframe tbody tr th:only-of-type {\n",
       "        vertical-align: middle;\n",
       "    }\n",
       "\n",
       "    .dataframe tbody tr th {\n",
       "        vertical-align: top;\n",
       "    }\n",
       "\n",
       "    .dataframe thead th {\n",
       "        text-align: right;\n",
       "    }\n",
       "</style>\n",
       "<table border=\"1\" class=\"dataframe\">\n",
       "  <thead>\n",
       "    <tr style=\"text-align: right;\">\n",
       "      <th></th>\n",
       "      <th>Week</th>\n",
       "      <th>Queries</th>\n",
       "      <th>ILI</th>\n",
       "    </tr>\n",
       "  </thead>\n",
       "  <tbody>\n",
       "    <tr>\n",
       "      <th>0</th>\n",
       "      <td>2004-01-04 - 2004-01-10</td>\n",
       "      <td>0.237716</td>\n",
       "      <td>0.883078</td>\n",
       "    </tr>\n",
       "    <tr>\n",
       "      <th>1</th>\n",
       "      <td>2004-01-11 - 2004-01-17</td>\n",
       "      <td>0.220452</td>\n",
       "      <td>0.592805</td>\n",
       "    </tr>\n",
       "    <tr>\n",
       "      <th>2</th>\n",
       "      <td>2004-01-18 - 2004-01-24</td>\n",
       "      <td>0.225764</td>\n",
       "      <td>0.537676</td>\n",
       "    </tr>\n",
       "    <tr>\n",
       "      <th>3</th>\n",
       "      <td>2004-01-25 - 2004-01-31</td>\n",
       "      <td>0.237716</td>\n",
       "      <td>0.433401</td>\n",
       "    </tr>\n",
       "    <tr>\n",
       "      <th>4</th>\n",
       "      <td>2004-02-01 - 2004-02-07</td>\n",
       "      <td>0.224436</td>\n",
       "      <td>0.363162</td>\n",
       "    </tr>\n",
       "  </tbody>\n",
       "</table>\n",
       "</div>"
      ],
      "text/plain": [
       "                      Week   Queries       ILI\n",
       "0  2004-01-04 - 2004-01-10  0.237716  0.883078\n",
       "1  2004-01-11 - 2004-01-17  0.220452  0.592805\n",
       "2  2004-01-18 - 2004-01-24  0.225764  0.537676\n",
       "3  2004-01-25 - 2004-01-31  0.237716  0.433401\n",
       "4  2004-02-01 - 2004-02-07  0.224436  0.363162"
      ]
     },
     "execution_count": 294,
     "metadata": {},
     "output_type": "execute_result"
    }
   ],
   "source": [
    "Flu_Train_log .head()"
   ]
  },
  {
   "cell_type": "code",
   "execution_count": 295,
   "metadata": {},
   "outputs": [
    {
     "data": {
      "text/html": [
       "<div>\n",
       "<style scoped>\n",
       "    .dataframe tbody tr th:only-of-type {\n",
       "        vertical-align: middle;\n",
       "    }\n",
       "\n",
       "    .dataframe tbody tr th {\n",
       "        vertical-align: top;\n",
       "    }\n",
       "\n",
       "    .dataframe thead th {\n",
       "        text-align: right;\n",
       "    }\n",
       "</style>\n",
       "<table border=\"1\" class=\"dataframe\">\n",
       "  <thead>\n",
       "    <tr style=\"text-align: right;\">\n",
       "      <th></th>\n",
       "      <th>Week</th>\n",
       "      <th>Queries</th>\n",
       "      <th>ILI</th>\n",
       "    </tr>\n",
       "  </thead>\n",
       "  <tbody>\n",
       "    <tr>\n",
       "      <th>0</th>\n",
       "      <td>2004-01-04 - 2004-01-10</td>\n",
       "      <td>0.237716</td>\n",
       "      <td>0.883078</td>\n",
       "    </tr>\n",
       "    <tr>\n",
       "      <th>1</th>\n",
       "      <td>2004-01-11 - 2004-01-17</td>\n",
       "      <td>0.220452</td>\n",
       "      <td>0.592805</td>\n",
       "    </tr>\n",
       "    <tr>\n",
       "      <th>2</th>\n",
       "      <td>2004-01-18 - 2004-01-24</td>\n",
       "      <td>0.225764</td>\n",
       "      <td>0.537676</td>\n",
       "    </tr>\n",
       "    <tr>\n",
       "      <th>3</th>\n",
       "      <td>2004-01-25 - 2004-01-31</td>\n",
       "      <td>0.237716</td>\n",
       "      <td>0.433401</td>\n",
       "    </tr>\n",
       "    <tr>\n",
       "      <th>4</th>\n",
       "      <td>2004-02-01 - 2004-02-07</td>\n",
       "      <td>0.224436</td>\n",
       "      <td>0.363162</td>\n",
       "    </tr>\n",
       "  </tbody>\n",
       "</table>\n",
       "</div>"
      ],
      "text/plain": [
       "                      Week   Queries       ILI\n",
       "0  2004-01-04 - 2004-01-10  0.237716  0.883078\n",
       "1  2004-01-11 - 2004-01-17  0.220452  0.592805\n",
       "2  2004-01-18 - 2004-01-24  0.225764  0.537676\n",
       "3  2004-01-25 - 2004-01-31  0.237716  0.433401\n",
       "4  2004-02-01 - 2004-02-07  0.224436  0.363162"
      ]
     },
     "execution_count": 295,
     "metadata": {},
     "output_type": "execute_result"
    }
   ],
   "source": [
    "Flu_Train_log.head()"
   ]
  },
  {
   "cell_type": "code",
   "execution_count": 296,
   "metadata": {},
   "outputs": [],
   "source": [
    "Flu_Train_Final = Flu_Train_log.drop(labels = [\"Week\"], axis = 1)"
   ]
  },
  {
   "cell_type": "markdown",
   "metadata": {},
   "source": [
    "# Linear Regression Model\n",
    "Based on the plot we made above, it seems that a linear regression model could be a good modeling choice. Based on our understanding of the data from the previous exercise, log(ILI) = intercept + coefficient x Queries, model best describes our estimation problem where the coefficient is positive."
   ]
  },
  {
   "cell_type": "code",
   "execution_count": 297,
   "metadata": {},
   "outputs": [],
   "source": [
    "X = Flu_Train_Final.iloc[:, :-1].values\n",
    "y = Flu_Train_Final.iloc[:, -1].values"
   ]
  },
  {
   "cell_type": "code",
   "execution_count": 298,
   "metadata": {},
   "outputs": [
    {
     "data": {
      "text/plain": [
       "LinearRegression(copy_X=True, fit_intercept=True, n_jobs=None, normalize=False)"
      ]
     },
     "execution_count": 298,
     "metadata": {},
     "output_type": "execute_result"
    }
   ],
   "source": [
    "FluTrend1 = LinearRegression()\n",
    "FluTrend1.fit(X, y)"
   ]
  },
  {
   "cell_type": "markdown",
   "metadata": {},
   "source": [
    "# R-squared value "
   ]
  },
  {
   "cell_type": "markdown",
   "metadata": {},
   "source": [
    "For a single variable linear regression model, there is a direct relationship between the R-squared and the correlation between the independent and the dependent variables. We try to infer this relationship from our problem:\n",
    "R-squared = Correlation^2, this can be verified by the correlation plot below."
   ]
  },
  {
   "cell_type": "code",
   "execution_count": 299,
   "metadata": {},
   "outputs": [],
   "source": [
    "RSq = FluTrend1.score(X,y)"
   ]
  },
  {
   "cell_type": "code",
   "execution_count": 300,
   "metadata": {},
   "outputs": [
    {
     "data": {
      "text/plain": [
       "0.7090200553481865"
      ]
     },
     "execution_count": 300,
     "metadata": {},
     "output_type": "execute_result"
    }
   ],
   "source": [
    "RSq"
   ]
  },
  {
   "cell_type": "code",
   "execution_count": 301,
   "metadata": {},
   "outputs": [],
   "source": [
    "Corr = math.sqrt(RSq)"
   ]
  },
  {
   "cell_type": "code",
   "execution_count": 302,
   "metadata": {},
   "outputs": [
    {
     "data": {
      "text/plain": [
       "0.842033286365917"
      ]
     },
     "execution_count": 302,
     "metadata": {},
     "output_type": "execute_result"
    }
   ],
   "source": [
    "Corr"
   ]
  },
  {
   "cell_type": "code",
   "execution_count": 349,
   "metadata": {},
   "outputs": [
    {
     "data": {
      "text/plain": [
       "<matplotlib.axes._subplots.AxesSubplot at 0x1b8fd4248d0>"
      ]
     },
     "execution_count": 349,
     "metadata": {},
     "output_type": "execute_result"
    },
    {
     "data": {
      "image/png": "[encoded data removed]",
      "text/plain": [
       "<Figure size 144x144 with 2 Axes>"
      ]
     },
     "metadata": {
      "needs_background": "light"
     },
     "output_type": "display_data"
    }
   ],
   "source": [
    "cmap = sns.diverging_palette(230, 20, as_cmap = True)\n",
    "plt.subplots(figsize=(2,2))\n",
    "sns.heatmap(Flu_Train_log.corr(), annot = True, cmap = cmap, square = True)"
   ]
  },
  {
   "cell_type": "code",
   "execution_count": 350,
   "metadata": {},
   "outputs": [
    {
     "data": {
      "text/plain": [
       "<matplotlib.axes._subplots.AxesSubplot at 0x1b8feb4ad68>"
      ]
     },
     "execution_count": 350,
     "metadata": {},
     "output_type": "execute_result"
    },
    {
     "data": {
      "image/png": "[encoded data removed]",
      "text/plain": [
       "<Figure size 432x288 with 1 Axes>"
      ]
     },
     "metadata": {
      "needs_background": "light"
     },
     "output_type": "display_data"
    }
   ],
   "source": [
    "sns.regplot(x='ILI', y='Queries', data = Flu_Train_log)"
   ]
  },
  {
   "cell_type": "code",
   "execution_count": 351,
   "metadata": {},
   "outputs": [],
   "source": [
    "est = sm.OLS(y, X)"
   ]
  },
  {
   "cell_type": "code",
   "execution_count": 352,
   "metadata": {},
   "outputs": [],
   "source": [
    "est2 = est.fit()"
   ]
  },
  {
   "cell_type": "code",
   "execution_count": 353,
   "metadata": {},
   "outputs": [
    {
     "name": "stdout",
     "output_type": "stream",
     "text": [
      "                                 OLS Regression Results                                \n",
      "=======================================================================================\n",
      "Dep. Variable:                      y   R-squared (uncentered):                   0.924\n",
      "Model:                            OLS   Adj. R-squared (uncentered):              0.922\n",
      "Method:                 Least Squares   F-statistic:                              616.4\n",
      "Date:                Sat, 20 Mar 2021   Prob (F-statistic):                    3.84e-30\n",
      "Time:                        18:43:07   Log-Likelihood:                         -40.203\n",
      "No. Observations:                  52   AIC:                                      82.41\n",
      "Df Residuals:                      51   BIC:                                      84.36\n",
      "Df Model:                           1                                                  \n",
      "Covariance Type:            nonrobust                                                  \n",
      "==============================================================================\n",
      "                 coef    std err          t      P>|t|      [0.025      0.975]\n",
      "------------------------------------------------------------------------------\n",
      "x1             4.2100      0.170     24.827      0.000       3.870       4.550\n",
      "==============================================================================\n",
      "Omnibus:                       56.975   Durbin-Watson:                   0.288\n",
      "Prob(Omnibus):                  0.000   Jarque-Bera (JB):              382.295\n",
      "Skew:                           2.819   Prob(JB):                     9.68e-84\n",
      "Kurtosis:                      15.027   Cond. No.                         1.00\n",
      "==============================================================================\n",
      "\n",
      "Warnings:\n",
      "[1] Standard Errors assume that the covariance matrix of the errors is correctly specified.\n"
     ]
    }
   ],
   "source": [
    "print(est2.summary())"
   ]
  },
  {
   "cell_type": "markdown",
   "metadata": {},
   "source": [
    "# Performance on the Test Set\n",
    "The csv file FluTest.csv provides the 2012 weekly data of the ILI-related search queries and the observed weekly percentage of ILI-related physician visits. Load this data into a data frame called FluTest.\n",
    "\n",
    "Normally, we would obtain test-set predictions from the model FluTrend1 using the code\n",
    "\n",
    "PredTest1 = predict(FluTrend1, newdata=FluTest)\n",
    "\n",
    "However, the dependent variable in our model is log(ILI), so PredTest1 would contain predictions of the log(ILI) value. We are instead interested in obtaining predictions of the ILI value. We can convert from predictions of log(ILI) to predictions of ILI via exponentiation, or the exp() function. The new code, which predicts the ILI value, is\n",
    "\n",
    "PredTest1 = exp(predict(FluTrend1, newdata=FluTest))\n",
    "\n",
    "What is our estimate for the percentage of ILI-related physician visits for the week of March 11, 2012?"
   ]
  },
  {
   "cell_type": "code",
   "execution_count": 354,
   "metadata": {},
   "outputs": [],
   "source": [
    "Flu_Test= pd.read_csv('FluTest.csv')"
   ]
  },
  {
   "cell_type": "code",
   "execution_count": 355,
   "metadata": {},
   "outputs": [
    {
     "name": "stdout",
     "output_type": "stream",
     "text": [
      "<class 'pandas.core.frame.DataFrame'>\n",
      "RangeIndex: 52 entries, 0 to 51\n",
      "Data columns (total 3 columns):\n",
      "Week       52 non-null object\n",
      "ILI        52 non-null float64\n",
      "Queries    52 non-null float64\n",
      "dtypes: float64(2), object(1)\n",
      "memory usage: 1.3+ KB\n"
     ]
    }
   ],
   "source": [
    "Flu_Test.info()"
   ]
  },
  {
   "cell_type": "code",
   "execution_count": 356,
   "metadata": {},
   "outputs": [
    {
     "data": {
      "text/html": [
       "<div>\n",
       "<style scoped>\n",
       "    .dataframe tbody tr th:only-of-type {\n",
       "        vertical-align: middle;\n",
       "    }\n",
       "\n",
       "    .dataframe tbody tr th {\n",
       "        vertical-align: top;\n",
       "    }\n",
       "\n",
       "    .dataframe thead th {\n",
       "        text-align: right;\n",
       "    }\n",
       "</style>\n",
       "<table border=\"1\" class=\"dataframe\">\n",
       "  <thead>\n",
       "    <tr style=\"text-align: right;\">\n",
       "      <th></th>\n",
       "      <th>Week</th>\n",
       "      <th>ILI</th>\n",
       "      <th>Queries</th>\n",
       "    </tr>\n",
       "  </thead>\n",
       "  <tbody>\n",
       "    <tr>\n",
       "      <th>0</th>\n",
       "      <td>2012-01-01 - 2012-01-07</td>\n",
       "      <td>1.766707</td>\n",
       "      <td>0.593625</td>\n",
       "    </tr>\n",
       "    <tr>\n",
       "      <th>1</th>\n",
       "      <td>2012-01-08 - 2012-01-14</td>\n",
       "      <td>1.543401</td>\n",
       "      <td>0.499336</td>\n",
       "    </tr>\n",
       "    <tr>\n",
       "      <th>2</th>\n",
       "      <td>2012-01-15 - 2012-01-21</td>\n",
       "      <td>1.647615</td>\n",
       "      <td>0.500664</td>\n",
       "    </tr>\n",
       "    <tr>\n",
       "      <th>3</th>\n",
       "      <td>2012-01-22 - 2012-01-28</td>\n",
       "      <td>1.684297</td>\n",
       "      <td>0.479416</td>\n",
       "    </tr>\n",
       "    <tr>\n",
       "      <th>4</th>\n",
       "      <td>2012-01-29 - 2012-02-04</td>\n",
       "      <td>1.863542</td>\n",
       "      <td>0.471448</td>\n",
       "    </tr>\n",
       "  </tbody>\n",
       "</table>\n",
       "</div>"
      ],
      "text/plain": [
       "                      Week       ILI   Queries\n",
       "0  2012-01-01 - 2012-01-07  1.766707  0.593625\n",
       "1  2012-01-08 - 2012-01-14  1.543401  0.499336\n",
       "2  2012-01-15 - 2012-01-21  1.647615  0.500664\n",
       "3  2012-01-22 - 2012-01-28  1.684297  0.479416\n",
       "4  2012-01-29 - 2012-02-04  1.863542  0.471448"
      ]
     },
     "execution_count": 356,
     "metadata": {},
     "output_type": "execute_result"
    }
   ],
   "source": [
    "Flu_Test.head()"
   ]
  },
  {
   "cell_type": "code",
   "execution_count": 357,
   "metadata": {},
   "outputs": [],
   "source": [
    "cols = list(Flu_Test.columns)"
   ]
  },
  {
   "cell_type": "code",
   "execution_count": 358,
   "metadata": {},
   "outputs": [],
   "source": [
    "a, b, c = cols.index('Week'), cols.index('ILI'), cols.index('Queries')\n",
    "cols[a], cols[b], cols[c] = cols[a], cols[c], cols[b]\n",
    "Flu_Test_exp = Flu_Test[cols]"
   ]
  },
  {
   "cell_type": "code",
   "execution_count": 359,
   "metadata": {},
   "outputs": [
    {
     "data": {
      "text/html": [
       "<div>\n",
       "<style scoped>\n",
       "    .dataframe tbody tr th:only-of-type {\n",
       "        vertical-align: middle;\n",
       "    }\n",
       "\n",
       "    .dataframe tbody tr th {\n",
       "        vertical-align: top;\n",
       "    }\n",
       "\n",
       "    .dataframe thead th {\n",
       "        text-align: right;\n",
       "    }\n",
       "</style>\n",
       "<table border=\"1\" class=\"dataframe\">\n",
       "  <thead>\n",
       "    <tr style=\"text-align: right;\">\n",
       "      <th></th>\n",
       "      <th>Week</th>\n",
       "      <th>Queries</th>\n",
       "      <th>ILI</th>\n",
       "    </tr>\n",
       "  </thead>\n",
       "  <tbody>\n",
       "    <tr>\n",
       "      <th>0</th>\n",
       "      <td>2012-01-01 - 2012-01-07</td>\n",
       "      <td>0.593625</td>\n",
       "      <td>1.766707</td>\n",
       "    </tr>\n",
       "    <tr>\n",
       "      <th>1</th>\n",
       "      <td>2012-01-08 - 2012-01-14</td>\n",
       "      <td>0.499336</td>\n",
       "      <td>1.543401</td>\n",
       "    </tr>\n",
       "    <tr>\n",
       "      <th>2</th>\n",
       "      <td>2012-01-15 - 2012-01-21</td>\n",
       "      <td>0.500664</td>\n",
       "      <td>1.647615</td>\n",
       "    </tr>\n",
       "    <tr>\n",
       "      <th>3</th>\n",
       "      <td>2012-01-22 - 2012-01-28</td>\n",
       "      <td>0.479416</td>\n",
       "      <td>1.684297</td>\n",
       "    </tr>\n",
       "    <tr>\n",
       "      <th>4</th>\n",
       "      <td>2012-01-29 - 2012-02-04</td>\n",
       "      <td>0.471448</td>\n",
       "      <td>1.863542</td>\n",
       "    </tr>\n",
       "  </tbody>\n",
       "</table>\n",
       "</div>"
      ],
      "text/plain": [
       "                      Week   Queries       ILI\n",
       "0  2012-01-01 - 2012-01-07  0.593625  1.766707\n",
       "1  2012-01-08 - 2012-01-14  0.499336  1.543401\n",
       "2  2012-01-15 - 2012-01-21  0.500664  1.647615\n",
       "3  2012-01-22 - 2012-01-28  0.479416  1.684297\n",
       "4  2012-01-29 - 2012-02-04  0.471448  1.863542"
      ]
     },
     "execution_count": 359,
     "metadata": {},
     "output_type": "execute_result"
    }
   ],
   "source": [
    "Flu_Test_exp .head()"
   ]
  },
  {
   "cell_type": "code",
   "execution_count": 360,
   "metadata": {},
   "outputs": [],
   "source": [
    "Flu_Test_Final = Flu_Test_exp.drop(labels = [\"Week\"], axis = 1)"
   ]
  },
  {
   "cell_type": "code",
   "execution_count": 361,
   "metadata": {},
   "outputs": [],
   "source": [
    "X = Flu_Test_Final.iloc[:, :-1].values\n",
    "y = Flu_Test_Final.iloc[:, -1].values"
   ]
  },
  {
   "cell_type": "code",
   "execution_count": 362,
   "metadata": {},
   "outputs": [],
   "source": [
    "PredTest = LinearRegression()\n",
    "PredTest = FluTrend1.predict(X)"
   ]
  },
  {
   "cell_type": "code",
   "execution_count": 363,
   "metadata": {},
   "outputs": [
    {
     "data": {
      "text/plain": [
       "array([1.25855522, 0.97933641, 0.98326907, 0.92034652, 0.89675056,\n",
       "       0.99113439, 1.02259566, 0.98326907, 0.86528929, 0.85742397,\n",
       "       0.78270344, 0.58607047, 0.58213782, 0.53887856, 0.58213782,\n",
       "       0.47988867, 0.42483144, 0.40516814, 0.3225823 , 0.39730283,\n",
       "       0.31864964, 0.27539039, 0.30685166, 0.24392911, 0.27539039,\n",
       "       0.20853518, 0.24392911, 0.28718836, 0.22819847, 0.24392911,\n",
       "       0.23606379, 0.24786177, 0.29898634, 0.36977421, 0.42089878,\n",
       "       0.48775399, 0.56247452, 0.73944419, 0.7866361 , 0.85742397,\n",
       "       0.88495258, 0.84955865, 0.84562599, 0.9321445 , 0.8928179 ,\n",
       "       1.05012428, 1.01473034, 1.30574713, 1.49058212, 1.58889861,\n",
       "       1.83272349, 1.88574338])"
      ]
     },
     "execution_count": 363,
     "metadata": {},
     "output_type": "execute_result"
    }
   ],
   "source": [
    "PredTest"
   ]
  },
  {
   "cell_type": "markdown",
   "metadata": {},
   "source": [
    "The dependent variable in our model is log(ILI), so PredTest would contain predictions of the log(ILI) value. We are instead interested in obtaining predictions of the ILI value. We can convert from predictions of log(ILI) to predictions of ILI via exponentiation, or the exp() function."
   ]
  },
  {
   "cell_type": "code",
   "execution_count": 413,
   "metadata": {},
   "outputs": [],
   "source": [
    "PredExp = np.exp(PredTest)"
   ]
  },
  {
   "cell_type": "code",
   "execution_count": 414,
   "metadata": {},
   "outputs": [
    {
     "data": {
      "text/plain": [
       "array([3.52033171, 2.66268872, 2.67318078, 2.51016006, 2.45162375,\n",
       "       2.6942891 , 2.78040239, 2.67318078, 2.37569324, 2.35708095,\n",
       "       2.18737772, 1.7969135 , 1.78986074, 1.71408354, 1.78986074,\n",
       "       1.6158945 , 1.52933261, 1.49955462, 1.38068852, 1.48780641,\n",
       "       1.3752694 , 1.31704473, 1.35913934, 1.27625386, 1.31704473,\n",
       "       1.23187226, 1.27625386, 1.33267522, 1.25633465, 1.27625386,\n",
       "       1.26625508, 1.28128281, 1.3484912 , 1.44740777, 1.52333008,\n",
       "       1.62865414, 1.75500994, 2.09477089, 2.19599687, 2.35708095,\n",
       "       2.4228695 , 2.33861448, 2.32943556, 2.53995026, 2.44200129,\n",
       "       2.85800628, 2.75861941, 3.69044531, 4.43967921, 4.89835095,\n",
       "       6.2508877 , 6.59125245])"
      ]
     },
     "execution_count": 414,
     "metadata": {},
     "output_type": "execute_result"
    }
   ],
   "source": [
    "PredExp"
   ]
  },
  {
   "cell_type": "markdown",
   "metadata": {},
   "source": [
    "# Performance on the Test Set\n",
    "We try to find what is the relative error between the estimate (our prediction) and the observed value for the week of March 11, 2012. The relative error is calculated as:\n",
    "\n",
    "Relative Error = (Observed ILI - Estimated ILI) / Observed ILI"
   ]
  },
  {
   "cell_type": "code",
   "execution_count": 404,
   "metadata": {},
   "outputs": [],
   "source": [
    "Observed_ILI = Flu_Test_exp.iloc[10].ILI"
   ]
  },
  {
   "cell_type": "code",
   "execution_count": 405,
   "metadata": {},
   "outputs": [
    {
     "data": {
      "text/plain": [
       "2.293421558"
      ]
     },
     "execution_count": 405,
     "metadata": {},
     "output_type": "execute_result"
    }
   ],
   "source": [
    "Observed_ILI"
   ]
  },
  {
   "cell_type": "code",
   "execution_count": 406,
   "metadata": {},
   "outputs": [],
   "source": [
    "Estimated_ILI = PredExp[10]"
   ]
  },
  {
   "cell_type": "code",
   "execution_count": 407,
   "metadata": {},
   "outputs": [
    {
     "data": {
      "text/plain": [
       "2.1873777211145464"
      ]
     },
     "execution_count": 407,
     "metadata": {},
     "output_type": "execute_result"
    }
   ],
   "source": [
    "Estimated_ILI"
   ]
  },
  {
   "cell_type": "code",
   "execution_count": 408,
   "metadata": {},
   "outputs": [],
   "source": [
    "Relative_Error = (Observed_ILI - Estimated_ILI)/Observed_ILI"
   ]
  },
  {
   "cell_type": "code",
   "execution_count": 409,
   "metadata": {},
   "outputs": [
    {
     "data": {
      "text/plain": [
       "0.04623826636474544"
      ]
     },
     "execution_count": 409,
     "metadata": {},
     "output_type": "execute_result"
    }
   ],
   "source": [
    "Relative_Error"
   ]
  },
  {
   "cell_type": "code",
   "execution_count": 415,
   "metadata": {},
   "outputs": [
    {
     "name": "stdout",
     "output_type": "stream",
     "text": [
      "0.5944270204433815\n"
     ]
    }
   ],
   "source": [
    "#MAE\n",
    "print(metrics.mean_absolute_error(y, PredExp))"
   ]
  },
  {
   "cell_type": "code",
   "execution_count": 416,
   "metadata": {},
   "outputs": [
    {
     "name": "stdout",
     "output_type": "stream",
     "text": [
      "0.5610976657624932\n"
     ]
    }
   ],
   "source": [
    "#MSE\n",
    "print(metrics.mean_squared_error(y, PredExp))"
   ]
  },
  {
   "cell_type": "code",
   "execution_count": 417,
   "metadata": {},
   "outputs": [
    {
     "name": "stdout",
     "output_type": "stream",
     "text": [
      "0.7490645271019668\n"
     ]
    }
   ],
   "source": [
    "#RMSE\n",
    "print(np.sqrt(metrics.mean_squared_error(y, PredExp)))"
   ]
  },
  {
   "cell_type": "code",
   "execution_count": null,
   "metadata": {},
   "outputs": [],
   "source": []
  }
 ],
 "metadata": {
  "kernelspec": {
   "display_name": "Python 3",
   "language": "python",
   "name": "python3"
  },
  "language_info": {
   "codemirror_mode": {
    "name": "ipython",
    "version": 3
   },
   "file_extension": ".py",
   "mimetype": "text/x-python",
   "name": "python",
   "nbconvert_exporter": "python",
   "pygments_lexer": "ipython3",
   "version": "3.7.3"
  }
 },
 "nbformat": 4,
 "nbformat_minor": 2
}
